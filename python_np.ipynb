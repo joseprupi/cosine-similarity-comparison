{
 "cells": [
  {
   "cell_type": "code",
   "execution_count": 2,
   "metadata": {},
   "outputs": [],
   "source": [
    "import numpy as np\n",
    "from scipy.spatial import distance\n",
    "from numpy.linalg import norm"
   ]
  },
  {
   "cell_type": "code",
   "execution_count": 52,
   "metadata": {},
   "outputs": [],
   "source": [
    "my_data = np.genfromtxt('vectors.csv', delimiter=',')\n",
    "A,B = np.moveaxis(my_data, 1, 0)"
   ]
  },
  {
   "cell_type": "code",
   "execution_count": 8,
   "metadata": {},
   "outputs": [],
   "source": [
    "A,B = np.moveaxis(my_data, 1, 0)"
   ]
  },
  {
   "cell_type": "code",
   "execution_count": 2,
   "metadata": {},
   "outputs": [],
   "source": [
    "rng = np.random.default_rng(12345)"
   ]
  },
  {
   "cell_type": "code",
   "execution_count": 6,
   "metadata": {},
   "outputs": [
    {
     "data": {
      "text/plain": [
       "Generator(PCG64) at 0x7FB637ACF900"
      ]
     },
     "execution_count": 6,
     "metadata": {},
     "output_type": "execute_result"
    }
   ],
   "source": [
    "rng"
   ]
  },
  {
   "cell_type": "code",
   "execution_count": 57,
   "metadata": {},
   "outputs": [],
   "source": [
    "size = 10000000\n",
    "\n",
    "A = np.random.uniform(size=(size,)).astype('f')\n",
    "B = np.random.uniform(size=(size,)).astype('f')"
   ]
  },
  {
   "cell_type": "code",
   "execution_count": 27,
   "metadata": {},
   "outputs": [],
   "source": [
    "SIZE = 640000\n",
    "\n",
    "A = np.zeros((SIZE))\n",
    "B = np.zeros((SIZE))\n",
    "\n",
    "for i in range(SIZE):\n",
    "    A[i] = 1\n",
    "    B[i] = i\n",
    "\n",
    "A = A.astype('f')\n",
    "B = B.astype('f')\n",
    "\n",
    "# for (int i = 0; i < SIZE; i++)\n",
    "# {\n",
    "#     A[i] = 1;\n",
    "#     B[i] = i;\n",
    "# }"
   ]
  },
  {
   "cell_type": "code",
   "execution_count": 9,
   "metadata": {},
   "outputs": [
    {
     "data": {
      "text/plain": [
       "numpy.float32"
      ]
     },
     "execution_count": 9,
     "metadata": {},
     "output_type": "execute_result"
    }
   ],
   "source": [
    "type(A[0])"
   ]
  },
  {
   "cell_type": "code",
   "execution_count": 55,
   "metadata": {},
   "outputs": [
    {
     "name": "stdout",
     "output_type": "stream",
     "text": [
      "-0.4990165521693395\n",
      "--- 4.730463027954102 milliseconds ---\n"
     ]
    }
   ],
   "source": [
    "import time\n",
    "start_time = time.time()\n",
    "sim = distance.cosine(A,B)\n",
    "elapsed = (time.time() - start_time) * 1000\n",
    "print(1 - sim)\n",
    "print(\"--- %s milliseconds ---\" % elapsed)"
   ]
  },
  {
   "cell_type": "code",
   "execution_count": 56,
   "metadata": {},
   "outputs": [
    {
     "name": "stdout",
     "output_type": "stream",
     "text": [
      "-0.4990165521693397\n",
      "--- 5.220890045166016 milliseconds ---\n"
     ]
    }
   ],
   "source": [
    "start_time = time.time()\n",
    "cos_sim = np.dot(A, B)/(norm(A)*norm(B))\n",
    "elapsed = (time.time() - start_time) * 1000\n",
    "print(cos_sim)\n",
    "print(\"--- %s milliseconds ---\" % elapsed)"
   ]
  }
 ],
 "metadata": {
  "kernelspec": {
   "display_name": "Python 3",
   "language": "python",
   "name": "python3"
  },
  "language_info": {
   "codemirror_mode": {
    "name": "ipython",
    "version": 3
   },
   "file_extension": ".py",
   "mimetype": "text/x-python",
   "name": "python",
   "nbconvert_exporter": "python",
   "pygments_lexer": "ipython3",
   "version": "3.9.2"
  },
  "orig_nbformat": 4
 },
 "nbformat": 4,
 "nbformat_minor": 2
}
