{
 "cells": [
  {
   "cell_type": "code",
   "execution_count": 4,
   "metadata": {},
   "outputs": [],
   "source": [
    "import numpy as np"
   ]
  },
  {
   "cell_type": "code",
   "execution_count": 9,
   "metadata": {},
   "outputs": [],
   "source": [
    "def generate_random_vector(size):\n",
    "    \"\"\"\n",
    "    Generate 2 random vectors with the provided size\n",
    "    and save them in a text file\n",
    "    \"\"\"\n",
    "    A = np.random.normal(loc=1.5, size=(size,))\n",
    "    B = np.random.normal(loc=-1.5, scale=2.0, size=(size,))\n",
    "    vectors = np.stack([A, B], axis=1)\n",
    "    np.savetxt('vectors.csv', vectors, fmt='%f,%f')\n",
    "    "
   ]
  },
  {
   "cell_type": "code",
   "execution_count": 10,
   "metadata": {},
   "outputs": [],
   "source": [
    "generate_random_vector(640000)"
   ]
  }
 ],
 "metadata": {
  "kernelspec": {
   "display_name": "Python 3",
   "language": "python",
   "name": "python3"
  },
  "language_info": {
   "codemirror_mode": {
    "name": "ipython",
    "version": 3
   },
   "file_extension": ".py",
   "mimetype": "text/x-python",
   "name": "python",
   "nbconvert_exporter": "python",
   "pygments_lexer": "ipython3",
   "version": "3.9.2"
  },
  "orig_nbformat": 4
 },
 "nbformat": 4,
 "nbformat_minor": 2
}
