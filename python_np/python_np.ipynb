{
 "cells": [
  {
   "cell_type": "code",
   "execution_count": 2,
   "metadata": {},
   "outputs": [],
   "source": [
    "import time\n",
    "\n",
    "import numpy as np\n",
    "from scipy.spatial import distance\n",
    "from numpy.linalg import norm"
   ]
  },
  {
   "cell_type": "code",
   "execution_count": 3,
   "metadata": {},
   "outputs": [],
   "source": [
    "EXECUTIONS = 1000"
   ]
  },
  {
   "cell_type": "code",
   "execution_count": 4,
   "metadata": {},
   "outputs": [],
   "source": [
    "file_data = np.genfromtxt('../tools/vectors.csv', delimiter=',')\n",
    "A,B = np.moveaxis(file_data, 1, 0).astype('f')"
   ]
  },
  {
   "cell_type": "code",
   "execution_count": 5,
   "metadata": {},
   "outputs": [
    {
     "name": "stdout",
     "output_type": "stream",
     "text": [
      " 0.5212185382843018 ms\n"
     ]
    }
   ],
   "source": [
    "accum = 0\n",
    "\n",
    "for _ in range(EXECUTIONS):\n",
    "    start_time = time.time()\n",
    "    cos_sim = distance.cosine(A,B)\n",
    "    accum += (time.time() - start_time) * 1000\n",
    "    \n",
    "print(\" %s ms\" % (accum/EXECUTIONS))"
   ]
  },
  {
   "cell_type": "code",
   "execution_count": 6,
   "metadata": {},
   "outputs": [
    {
     "name": "stdout",
     "output_type": "stream",
     "text": [
      " 0.6776814460754395 ms\n"
     ]
    }
   ],
   "source": [
    "accum = 0\n",
    "\n",
    "for _ in range(EXECUTIONS):\n",
    "    start_time = time.time()\n",
    "    cos_sim = np.dot(A, B)/(norm(A)*norm(B))\n",
    "    accum +=  (time.time() - start_time) * 1000\n",
    "\n",
    "print(\" %s ms\" % (accum/EXECUTIONS))"
   ]
  },
  {
   "cell_type": "code",
   "execution_count": 7,
   "metadata": {},
   "outputs": [
    {
     "name": "stdout",
     "output_type": "stream",
     "text": [
      " 0.21950817108154297 ms\n"
     ]
    }
   ],
   "source": [
    "accum = 0\n",
    "\n",
    "for _ in range(EXECUTIONS):\n",
    "    start_time = time.time()\n",
    "    dot = np.dot(A, B)\n",
    "    accum +=  (time.time() - start_time) * 1000\n",
    "\n",
    "print(\" %s ms\" % (accum/EXECUTIONS))"
   ]
  }
 ],
 "metadata": {
  "kernelspec": {
   "display_name": "Python 3",
   "language": "python",
   "name": "python3"
  },
  "language_info": {
   "codemirror_mode": {
    "name": "ipython",
    "version": 3
   },
   "file_extension": ".py",
   "mimetype": "text/x-python",
   "name": "python",
   "nbconvert_exporter": "python",
   "pygments_lexer": "ipython3",
   "version": "3.11.2"
  },
  "orig_nbformat": 4
 },
 "nbformat": 4,
 "nbformat_minor": 2
}
