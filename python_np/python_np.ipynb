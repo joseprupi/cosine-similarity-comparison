{
 "cells": [
  {
   "cell_type": "code",
   "execution_count": 1,
   "metadata": {},
   "outputs": [],
   "source": [
    "import time\n",
    "import math\n",
    "\n",
    "import pandas as pd\n",
    "import numpy as np\n",
    "from scipy.spatial import distance\n",
    "from numpy.linalg import norm"
   ]
  },
  {
   "cell_type": "code",
   "execution_count": 2,
   "metadata": {},
   "outputs": [],
   "source": [
    "EXECUTIONS = 100"
   ]
  },
  {
   "cell_type": "code",
   "execution_count": 3,
   "metadata": {},
   "outputs": [],
   "source": [
    "file_data = np.genfromtxt('../tools/vectors.csv', delimiter=',')\n",
    "A,B = np.moveaxis(file_data, 1, 0).astype('f')"
   ]
  },
  {
   "cell_type": "code",
   "execution_count": 4,
   "metadata": {},
   "outputs": [],
   "source": [
    "results_df = pd.DataFrame(columns=['Implementation', 'Time (ms)', 'Result'])"
   ]
  },
  {
   "cell_type": "code",
   "execution_count": 5,
   "metadata": {},
   "outputs": [
    {
     "name": "stdout",
     "output_type": "stream",
     "text": [
      " 306.00303173065186 ms\n"
     ]
    }
   ],
   "source": [
    "# Plain Python implementation\n",
    "\n",
    "def cosine(A, B):\n",
    "    dot = denom_a = denom_b = 0.0\n",
    "\n",
    "    for i in range(len(A)):\n",
    "        dot += A[i] * B[i]\n",
    "        denom_a += A[i] * A[i]\n",
    "        denom_b += B[i] * B[i]\n",
    "\n",
    "    return dot / (math.sqrt(denom_a) * math.sqrt(denom_b))\n",
    "\n",
    "accum = 0\n",
    "\n",
    "A_list = list(A)\n",
    "B_list = list(B)\n",
    "\n",
    "for _ in range(EXECUTIONS):\n",
    "    start_time = time.time()\n",
    "    cos_sim = cosine(A_list,B_list)\n",
    "    accum += (time.time() - start_time) * 1000\n",
    "\n",
    "print(\" %s ms\" % (accum/EXECUTIONS))\n",
    "\n",
    "\n",
    "results_df.loc[len(results_df)] = ['Plain Python', accum/EXECUTIONS, cos_sim]"
   ]
  },
  {
   "cell_type": "code",
   "execution_count": 6,
   "metadata": {},
   "outputs": [],
   "source": [
    "EXECUTIONS = 10000"
   ]
  },
  {
   "cell_type": "code",
   "execution_count": 7,
   "metadata": {},
   "outputs": [
    {
     "name": "stdout",
     "output_type": "stream",
     "text": [
      " 0.552554440498352 ms\n"
     ]
    }
   ],
   "source": [
    "# Scipy implementation\n",
    "\n",
    "accum = 0\n",
    "\n",
    "for _ in range(EXECUTIONS):\n",
    "    start_time = time.time()\n",
    "    cos_sim = distance.cosine(A,B)\n",
    "    accum += (time.time() - start_time) * 1000\n",
    "\n",
    "print(\" %s ms\" % (accum/EXECUTIONS))\n",
    "\n",
    "results_df.loc[len(results_df)] = ['SciPy', accum/EXECUTIONS, cos_sim]"
   ]
  },
  {
   "cell_type": "code",
   "execution_count": 8,
   "metadata": {},
   "outputs": [
    {
     "name": "stdout",
     "output_type": "stream",
     "text": [
      " 0.7099000692367554 ms\n"
     ]
    }
   ],
   "source": [
    "# NumPy implementation\n",
    "\n",
    "accum = 0\n",
    "\n",
    "for _ in range(EXECUTIONS):\n",
    "    start_time = time.time()\n",
    "    cos_sim = 1 - np.dot(A, B)/(norm(A)*norm(B))\n",
    "    accum +=  (time.time() - start_time) * 1000\n",
    "\n",
    "print(\" %s ms\" % (accum/EXECUTIONS))\n",
    "\n",
    "results_df.loc[len(results_df)] = ['NumPy', accum/EXECUTIONS, cos_sim]"
   ]
  },
  {
   "cell_type": "code",
   "execution_count": 9,
   "metadata": {},
   "outputs": [
    {
     "name": "stdout",
     "output_type": "stream",
     "text": [
      " 0.6710227727890015 ms\n"
     ]
    }
   ],
   "source": [
    "# NumPy as Scipy implementation\n",
    "\n",
    "def cosine(u, v):\n",
    "    \n",
    "    uv = np.dot(u, v)\n",
    "    uu = np.dot(u, u)\n",
    "    vv = np.dot(v, v)\n",
    "    dist = 1.0 - uv / math.sqrt(uu * vv)\n",
    "    # Clip the result to avoid rounding error\n",
    "    return np.clip(dist, 0.0, 2.0)\n",
    "\n",
    "accum = 0\n",
    "\n",
    "for _ in range(EXECUTIONS):\n",
    "    start_time = time.time()\n",
    "    cos_sim = cosine(A,B)\n",
    "    accum += (time.time() - start_time) * 1000\n",
    "\n",
    "print(\" %s ms\" % (accum/EXECUTIONS))\n",
    "\n",
    "results_df.loc[len(results_df)] = ['NumPy as Scipy', accum/EXECUTIONS, cos_sim]"
   ]
  },
  {
   "cell_type": "code",
   "execution_count": 13,
   "metadata": {},
   "outputs": [
    {
     "name": "stdout",
     "output_type": "stream",
     "text": [
      " 0.043782711029052734 ms\n",
      " 0.04303474426269531 ms\n"
     ]
    }
   ],
   "source": [
    "# SciPy/NumPy implementation\n",
    "\n",
    "A,B = np.moveaxis(file_data, 1, 0).astype('f')\n",
    "\n",
    "A = np.asarray(A, dtype='float', order='c')\n",
    "B = np.asarray(B, dtype='float', order='c')\n",
    "\n",
    "accum = 0\n",
    "\n",
    "for _ in range(EXECUTIONS):\n",
    "    start_time = time.time()\n",
    "    cos_sim = 1 - np.dot(A, B)/(norm(A)*norm(B))\n",
    "    accum +=  (time.time() - start_time) * 1000\n",
    "\n",
    "print(\" %s ms\" % (accum/EXECUTIONS))\n",
    "\n",
    "def cosine(u, v):\n",
    "    \n",
    "    uv = np.dot(u, v)\n",
    "    uu = np.dot(u, u)\n",
    "    vv = np.dot(v, v)\n",
    "    dist = 1.0 - uv / math.sqrt(uu * vv)\n",
    "    # Clip the result to avoid rounding error\n",
    "    return np.clip(dist, 0.0, 2.0)\n",
    "\n",
    "accum = 0\n",
    "\n",
    "for _ in range(EXECUTIONS):\n",
    "    start_time = time.time()\n",
    "    cos_sim = cosine(A,B)\n",
    "    accum += (time.time() - start_time) * 1000\n",
    "\n",
    "print(\" %s ms\" % (accum/EXECUTIONS))"
   ]
  },
  {
   "cell_type": "code",
   "execution_count": 44,
   "metadata": {},
   "outputs": [
    {
     "name": "stdout",
     "output_type": "stream",
     "text": [
      " 0.04124276638031006 ms\n"
     ]
    }
   ],
   "source": [
    "accum = 0\n",
    "\n",
    "for _ in range(EXECUTIONS):\n",
    "    start_time = time.time()\n",
    "    cos_sim = 1 - np.dot(A, B)/(norm(A)*norm(B))\n",
    "    accum +=  (time.time() - start_time) * 1000\n",
    "\n",
    "print(\" %s ms\" % (accum/EXECUTIONS))\n",
    "\n",
    "def cosine(u, v):\n",
    "    \n",
    "    uv = np.dot(u, v)\n",
    "    uu = np.dot(u, u)\n",
    "    vv = np.dot(v, v)\n",
    "    dist = 1.0 - uv / math.sqrt(uu * vv)\n",
    "    # Clip the result to avoid rounding error\n",
    "    return np.clip(dist, 0.0, 2.0)\n",
    "\n",
    "accum = 0\n",
    "\n",
    "for _ in range(EXECUTIONS):\n",
    "    start_time = time.time()\n",
    "    cos_sim = cosine(A,B)\n",
    "    accum += (time.time() - start_time) * 1000\n",
    "\n",
    "print(\" %s ms\" % (accum/EXECUTIONS))"
   ]
  },
  {
   "cell_type": "code",
   "execution_count": 38,
   "metadata": {},
   "outputs": [
    {
     "name": "stdout",
     "output_type": "stream",
     "text": [
      " 0.04785375595092774 ms\n"
     ]
    }
   ],
   "source": [
    "import math\n",
    "import numpy as np\n",
    "\n",
    "def cosine(u, v):\n",
    "    \n",
    "    uv = np.dot(u, v)\n",
    "    uu = np.dot(u, u)\n",
    "    vv = np.dot(v, v)\n",
    "    dist = 1.0 - uv / math.sqrt(uu * vv)\n",
    "    # Clip the result to avoid rounding error\n",
    "    return np.clip(dist, 0.0, 2.0)\n",
    "\n",
    "accum = 0\n",
    "\n",
    "for _ in range(EXECUTIONS):\n",
    "    start_time = time.time()\n",
    "    cos_sim = cosine(A,B)\n",
    "    accum += (time.time() - start_time) * 1000\n",
    "\n",
    "print(\" %s ms\" % (accum/EXECUTIONS))"
   ]
  },
  {
   "cell_type": "code",
   "execution_count": 19,
   "metadata": {},
   "outputs": [],
   "source": [
    "######"
   ]
  },
  {
   "cell_type": "code",
   "execution_count": 8,
   "metadata": {},
   "outputs": [],
   "source": [
    "import math\n",
    "\n",
    "def cosine(u, v, w=None):\n",
    "    \n",
    "    vw, uw = v, u\n",
    "    uv = np.dot(u, vw)\n",
    "    uu = np.dot(u, uw)\n",
    "    vv = np.dot(v, vw)\n",
    "    dist = 1.0 - uv / math.sqrt(uu * vv)\n",
    "    # Clip the result to avoid rounding error\n",
    "    return np.clip(dist, 0.0, 2.0)"
   ]
  },
  {
   "cell_type": "code",
   "execution_count": 9,
   "metadata": {},
   "outputs": [
    {
     "data": {
      "text/plain": [
       "1.4990165544834726"
      ]
     },
     "execution_count": 9,
     "metadata": {},
     "output_type": "execute_result"
    }
   ],
   "source": [
    "cosine(A,B)"
   ]
  },
  {
   "cell_type": "code",
   "execution_count": 10,
   "metadata": {},
   "outputs": [
    {
     "name": "stdout",
     "output_type": "stream",
     "text": [
      " 0.2338648796081543 ms\n"
     ]
    }
   ],
   "source": [
    "accum = 0\n",
    "\n",
    "for _ in range(EXECUTIONS):\n",
    "    start_time = time.time()\n",
    "    dot = np.dot(A, B)\n",
    "    accum +=  (time.time() - start_time) * 1000\n",
    "\n",
    "print(\" %s ms\" % (accum/EXECUTIONS))"
   ]
  },
  {
   "cell_type": "code",
   "execution_count": 27,
   "metadata": {},
   "outputs": [
    {
     "name": "stdout",
     "output_type": "stream",
     "text": [
      "575           0 RESUME                   0\n",
      "\n",
      "625           2 LOAD_GLOBAL              1 (NULL + _validate_vector)\n",
      "             14 LOAD_FAST                0 (u)\n",
      "             16 PRECALL                  1\n",
      "             20 CALL                     1\n",
      "             30 STORE_FAST               0 (u)\n",
      "\n",
      "626          32 LOAD_GLOBAL              1 (NULL + _validate_vector)\n",
      "             44 LOAD_FAST                1 (v)\n",
      "             46 PRECALL                  1\n",
      "             50 CALL                     1\n",
      "             60 STORE_FAST               1 (v)\n",
      "\n",
      "627          62 LOAD_FAST                2 (w)\n",
      "             64 POP_JUMP_FORWARD_IF_NONE    38 (to 142)\n",
      "\n",
      "628          66 LOAD_GLOBAL              3 (NULL + _validate_weights)\n",
      "             78 LOAD_FAST                2 (w)\n",
      "             80 PRECALL                  1\n",
      "             84 CALL                     1\n",
      "             94 STORE_FAST               2 (w)\n",
      "\n",
      "629          96 LOAD_FAST                2 (w)\n",
      "             98 LOAD_FAST                2 (w)\n",
      "            100 LOAD_METHOD              2 (sum)\n",
      "            122 PRECALL                  0\n",
      "            126 CALL                     0\n",
      "            136 BINARY_OP               11 (/)\n",
      "            140 STORE_FAST               2 (w)\n",
      "\n",
      "630     >>  142 LOAD_FAST                3 (centered)\n",
      "            144 POP_JUMP_FORWARD_IF_FALSE    95 (to 336)\n",
      "\n",
      "631         146 LOAD_FAST                2 (w)\n",
      "            148 POP_JUMP_FORWARD_IF_NONE    43 (to 236)\n",
      "\n",
      "632         150 LOAD_GLOBAL              7 (NULL + np)\n",
      "            162 LOAD_ATTR                4 (dot)\n",
      "            172 LOAD_FAST                0 (u)\n",
      "            174 LOAD_FAST                2 (w)\n",
      "            176 PRECALL                  2\n",
      "            180 CALL                     2\n",
      "            190 STORE_FAST               4 (umu)\n",
      "\n",
      "633         192 LOAD_GLOBAL              7 (NULL + np)\n",
      "            204 LOAD_ATTR                4 (dot)\n",
      "            214 LOAD_FAST                1 (v)\n",
      "            216 LOAD_FAST                2 (w)\n",
      "            218 PRECALL                  2\n",
      "            222 CALL                     2\n",
      "            232 STORE_FAST               5 (vmu)\n",
      "            234 JUMP_FORWARD            40 (to 316)\n",
      "\n",
      "635     >>  236 LOAD_GLOBAL              7 (NULL + np)\n",
      "            248 LOAD_ATTR                5 (mean)\n",
      "            258 LOAD_FAST                0 (u)\n",
      "            260 PRECALL                  1\n",
      "            264 CALL                     1\n",
      "            274 STORE_FAST               4 (umu)\n",
      "\n",
      "636         276 LOAD_GLOBAL              7 (NULL + np)\n",
      "            288 LOAD_ATTR                5 (mean)\n",
      "            298 LOAD_FAST                1 (v)\n",
      "            300 PRECALL                  1\n",
      "            304 CALL                     1\n",
      "            314 STORE_FAST               5 (vmu)\n",
      "\n",
      "637     >>  316 LOAD_FAST                0 (u)\n",
      "            318 LOAD_FAST                4 (umu)\n",
      "            320 BINARY_OP               10 (-)\n",
      "            324 STORE_FAST               0 (u)\n",
      "\n",
      "638         326 LOAD_FAST                1 (v)\n",
      "            328 LOAD_FAST                5 (vmu)\n",
      "            330 BINARY_OP               10 (-)\n",
      "            334 STORE_FAST               1 (v)\n",
      "\n",
      "639     >>  336 LOAD_FAST                2 (w)\n",
      "            338 POP_JUMP_FORWARD_IF_NONE    11 (to 362)\n",
      "\n",
      "640         340 LOAD_FAST                1 (v)\n",
      "            342 LOAD_FAST                2 (w)\n",
      "            344 BINARY_OP                5 (*)\n",
      "            348 STORE_FAST               6 (vw)\n",
      "\n",
      "641         350 LOAD_FAST                0 (u)\n",
      "            352 LOAD_FAST                2 (w)\n",
      "            354 BINARY_OP                5 (*)\n",
      "            358 STORE_FAST               7 (uw)\n",
      "            360 JUMP_FORWARD             4 (to 370)\n",
      "\n",
      "643     >>  362 LOAD_FAST                1 (v)\n",
      "            364 LOAD_FAST                0 (u)\n",
      "            366 STORE_FAST               7 (uw)\n",
      "            368 STORE_FAST               6 (vw)\n",
      "\n",
      "644     >>  370 LOAD_GLOBAL              7 (NULL + np)\n",
      "            382 LOAD_ATTR                4 (dot)\n",
      "            392 LOAD_FAST                0 (u)\n",
      "            394 LOAD_FAST                6 (vw)\n",
      "            396 PRECALL                  2\n",
      "            400 CALL                     2\n",
      "            410 STORE_FAST               8 (uv)\n",
      "\n",
      "645         412 LOAD_GLOBAL              7 (NULL + np)\n",
      "            424 LOAD_ATTR                4 (dot)\n",
      "            434 LOAD_FAST                0 (u)\n",
      "            436 LOAD_FAST                7 (uw)\n",
      "            438 PRECALL                  2\n",
      "            442 CALL                     2\n",
      "            452 STORE_FAST               9 (uu)\n",
      "\n",
      "646         454 LOAD_GLOBAL              7 (NULL + np)\n",
      "            466 LOAD_ATTR                4 (dot)\n",
      "            476 LOAD_FAST                1 (v)\n",
      "            478 LOAD_FAST                6 (vw)\n",
      "            480 PRECALL                  2\n",
      "            484 CALL                     2\n",
      "            494 STORE_FAST              10 (vv)\n",
      "\n",
      "647         496 LOAD_CONST               2 (1.0)\n",
      "            498 LOAD_FAST                8 (uv)\n",
      "            500 LOAD_GLOBAL             13 (NULL + math)\n",
      "            512 LOAD_ATTR                7 (sqrt)\n",
      "            522 LOAD_FAST                9 (uu)\n",
      "            524 LOAD_FAST               10 (vv)\n",
      "            526 BINARY_OP                5 (*)\n",
      "            530 PRECALL                  1\n",
      "            534 CALL                     1\n",
      "            544 BINARY_OP               11 (/)\n",
      "            548 BINARY_OP               10 (-)\n",
      "            552 STORE_FAST              11 (dist)\n",
      "\n",
      "649         554 LOAD_GLOBAL              7 (NULL + np)\n",
      "            566 LOAD_ATTR                8 (clip)\n",
      "            576 LOAD_FAST               11 (dist)\n",
      "            578 LOAD_CONST               3 (0.0)\n",
      "            580 LOAD_CONST               4 (2.0)\n",
      "            582 PRECALL                  3\n",
      "            586 CALL                     3\n",
      "            596 RETURN_VALUE\n"
     ]
    }
   ],
   "source": [
    "import dis\n",
    "\n",
    "dis.dis(distance.correlation)"
   ]
  },
  {
   "cell_type": "code",
   "execution_count": 29,
   "metadata": {},
   "outputs": [
    {
     "name": "stdout",
     "output_type": "stream",
     "text": [
      "  3           0 RESUME                   0\n",
      "\n",
      "  6           2 LOAD_GLOBAL              0 (np)\n",
      "             14 LOAD_METHOD              1 (dot)\n",
      "             36 LOAD_FAST                0 (u)\n",
      "             38 LOAD_FAST                0 (u)\n",
      "             40 PRECALL                  2\n",
      "             44 CALL                     2\n",
      "             54 STORE_FAST               3 (uu)\n",
      "\n",
      "  7          56 LOAD_GLOBAL              0 (np)\n",
      "             68 LOAD_METHOD              1 (dot)\n",
      "             90 LOAD_FAST                1 (v)\n",
      "             92 LOAD_FAST                1 (v)\n",
      "             94 PRECALL                  2\n",
      "             98 CALL                     2\n",
      "            108 STORE_FAST               4 (vv)\n",
      "\n",
      "  9         110 LOAD_CONST               1 (1)\n",
      "            112 LOAD_GLOBAL              0 (np)\n",
      "            124 LOAD_METHOD              1 (dot)\n",
      "            146 LOAD_FAST                0 (u)\n",
      "            148 LOAD_FAST                1 (v)\n",
      "            150 PRECALL                  2\n",
      "            154 CALL                     2\n",
      "            164 LOAD_GLOBAL              4 (math)\n",
      "            176 LOAD_METHOD              3 (sqrt)\n",
      "            198 LOAD_FAST                3 (uu)\n",
      "            200 LOAD_FAST                4 (vv)\n",
      "            202 BINARY_OP                5 (*)\n",
      "            206 PRECALL                  1\n",
      "            210 CALL                     1\n",
      "            220 BINARY_OP               11 (/)\n",
      "            224 BINARY_OP               10 (-)\n",
      "            228 STORE_FAST               5 (dist)\n",
      "\n",
      " 11         230 LOAD_GLOBAL              0 (np)\n",
      "            242 LOAD_METHOD              4 (clip)\n",
      "            264 LOAD_FAST                5 (dist)\n",
      "            266 LOAD_CONST               2 (0.0)\n",
      "            268 LOAD_CONST               3 (2.0)\n",
      "            270 PRECALL                  3\n",
      "            274 CALL                     3\n",
      "            284 RETURN_VALUE\n"
     ]
    }
   ],
   "source": [
    "import scipy.stats\n",
    "import dis\n",
    "\n",
    "# Disassemble the function\n",
    "dis.dis(cosine)"
   ]
  },
  {
   "cell_type": "code",
   "execution_count": 1,
   "metadata": {},
   "outputs": [],
   "source": [
    "def correlation(u, v, w=None, centered=True):\n",
    "    \"\"\"\n",
    "    Compute the correlation distance between two 1-D arrays.\n",
    "\n",
    "    The correlation distance between `u` and `v`, is\n",
    "    defined as\n",
    "\n",
    "    .. math::\n",
    "\n",
    "        1 - \\\\frac{(u - \\\\bar{u}) \\\\cdot (v - \\\\bar{v})}\n",
    "                  {{\\\\|(u - \\\\bar{u})\\\\|}_2 {\\\\|(v - \\\\bar{v})\\\\|}_2}\n",
    "\n",
    "    where :math:`\\\\bar{u}` is the mean of the elements of `u`\n",
    "    and :math:`x \\\\cdot y` is the dot product of :math:`x` and :math:`y`.\n",
    "\n",
    "    Parameters\n",
    "    ----------\n",
    "    u : (N,) array_like\n",
    "        Input array.\n",
    "    v : (N,) array_like\n",
    "        Input array.\n",
    "    w : (N,) array_like, optional\n",
    "        The weights for each value in `u` and `v`. Default is None,\n",
    "        which gives each value a weight of 1.0\n",
    "    centered : bool, optional\n",
    "        If True, `u` and `v` will be centered. Default is True.\n",
    "\n",
    "    Returns\n",
    "    -------\n",
    "    correlation : double\n",
    "        The correlation distance between 1-D array `u` and `v`.\n",
    "\n",
    "    Examples\n",
    "    --------\n",
    "    Find the correlation between two arrays.\n",
    "\n",
    "    >>> from scipy.spatial.distance import correlation\n",
    "    >>> correlation([1, 0, 1], [1, 1, 0])\n",
    "    1.5\n",
    "\n",
    "    Using a weighting array, the correlation can be calculated as:\n",
    "\n",
    "    >>> correlation([1, 0, 1], [1, 1, 0], w=[0.9, 0.1, 0.1])\n",
    "    1.1\n",
    "\n",
    "    If centering is not needed, the correlation can be calculated as:\n",
    "\n",
    "    >>> correlation([1, 0, 1], [1, 1, 0], centered=False)\n",
    "    0.5\n",
    "    \"\"\"\n",
    "    #u = _validate_vector(u)\n",
    "    #v = _validate_vector(v)\n",
    "    if w is not None:\n",
    "        #w = _validate_weights(w)\n",
    "        w = w / w.sum()\n",
    "    if centered:\n",
    "        if w is not None:\n",
    "            umu = np.dot(u, w)\n",
    "            vmu = np.dot(v, w)\n",
    "        else:\n",
    "            umu = np.mean(u)\n",
    "            vmu = np.mean(v)\n",
    "        u = u - umu\n",
    "        v = v - vmu\n",
    "    if w is not None:\n",
    "        vw = v * w\n",
    "        uw = u * w\n",
    "    else:\n",
    "        vw, uw = v, u\n",
    "    uv = np.dot(u, vw)\n",
    "    uu = np.dot(u, uw)\n",
    "    vv = np.dot(v, vw)\n",
    "    dist = 1.0 - uv / math.sqrt(uu * vv)\n",
    "    # Clip the result to avoid rounding error\n",
    "    return np.clip(dist, 0.0, 2.0)"
   ]
  },
  {
   "cell_type": "code",
   "execution_count": 9,
   "metadata": {},
   "outputs": [
    {
     "name": "stdout",
     "output_type": "stream",
     "text": [
      " 0.8782026052474976 ms\n"
     ]
    }
   ],
   "source": [
    "accum = 0\n",
    "\n",
    "for _ in range(EXECUTIONS):\n",
    "    start_time = time.time()\n",
    "    cos_sim = correlation(A,B)\n",
    "    accum += (time.time() - start_time) * 1000\n",
    "\n",
    "print(\" %s ms\" % (accum/EXECUTIONS))"
   ]
  },
  {
   "cell_type": "code",
   "execution_count": 2,
   "metadata": {},
   "outputs": [
    {
     "name": "stdout",
     "output_type": "stream",
     "text": [
      "  1           0 RESUME                   0\n",
      "\n",
      " 53           2 LOAD_FAST                2 (w)\n",
      "              4 POP_JUMP_FORWARD_IF_NONE    23 (to 52)\n",
      "\n",
      " 55           6 LOAD_FAST                2 (w)\n",
      "              8 LOAD_FAST                2 (w)\n",
      "             10 LOAD_METHOD              0 (sum)\n",
      "             32 PRECALL                  0\n",
      "             36 CALL                     0\n",
      "             46 BINARY_OP               11 (/)\n",
      "             50 STORE_FAST               2 (w)\n",
      "\n",
      " 56     >>   52 LOAD_FAST                3 (centered)\n",
      "             54 POP_JUMP_FORWARD_IF_FALSE   119 (to 294)\n",
      "\n",
      " 57          56 LOAD_FAST                2 (w)\n",
      "             58 POP_JUMP_FORWARD_IF_NONE    55 (to 170)\n",
      "\n",
      " 58          60 LOAD_GLOBAL              2 (np)\n",
      "             72 LOAD_METHOD              2 (dot)\n",
      "             94 LOAD_FAST                0 (u)\n",
      "             96 LOAD_FAST                2 (w)\n",
      "             98 PRECALL                  2\n",
      "            102 CALL                     2\n",
      "            112 STORE_FAST               4 (umu)\n",
      "\n",
      " 59         114 LOAD_GLOBAL              2 (np)\n",
      "            126 LOAD_METHOD              2 (dot)\n",
      "            148 LOAD_FAST                1 (v)\n",
      "            150 LOAD_FAST                2 (w)\n",
      "            152 PRECALL                  2\n",
      "            156 CALL                     2\n",
      "            166 STORE_FAST               5 (vmu)\n",
      "            168 JUMP_FORWARD            52 (to 274)\n",
      "\n",
      " 61     >>  170 LOAD_GLOBAL              2 (np)\n",
      "            182 LOAD_METHOD              3 (mean)\n",
      "            204 LOAD_FAST                0 (u)\n",
      "            206 PRECALL                  1\n",
      "            210 CALL                     1\n",
      "            220 STORE_FAST               4 (umu)\n",
      "\n",
      " 62         222 LOAD_GLOBAL              2 (np)\n",
      "            234 LOAD_METHOD              3 (mean)\n",
      "            256 LOAD_FAST                1 (v)\n",
      "            258 PRECALL                  1\n",
      "            262 CALL                     1\n",
      "            272 STORE_FAST               5 (vmu)\n",
      "\n",
      " 63     >>  274 LOAD_FAST                0 (u)\n",
      "            276 LOAD_FAST                4 (umu)\n",
      "            278 BINARY_OP               10 (-)\n",
      "            282 STORE_FAST               0 (u)\n",
      "\n",
      " 64         284 LOAD_FAST                1 (v)\n",
      "            286 LOAD_FAST                5 (vmu)\n",
      "            288 BINARY_OP               10 (-)\n",
      "            292 STORE_FAST               1 (v)\n",
      "\n",
      " 65     >>  294 LOAD_FAST                2 (w)\n",
      "            296 POP_JUMP_FORWARD_IF_NONE    11 (to 320)\n",
      "\n",
      " 66         298 LOAD_FAST                1 (v)\n",
      "            300 LOAD_FAST                2 (w)\n",
      "            302 BINARY_OP                5 (*)\n",
      "            306 STORE_FAST               6 (vw)\n",
      "\n",
      " 67         308 LOAD_FAST                0 (u)\n",
      "            310 LOAD_FAST                2 (w)\n",
      "            312 BINARY_OP                5 (*)\n",
      "            316 STORE_FAST               7 (uw)\n",
      "            318 JUMP_FORWARD             4 (to 328)\n",
      "\n",
      " 69     >>  320 LOAD_FAST                1 (v)\n",
      "            322 LOAD_FAST                0 (u)\n",
      "            324 STORE_FAST               7 (uw)\n",
      "            326 STORE_FAST               6 (vw)\n",
      "\n",
      " 70     >>  328 LOAD_GLOBAL              2 (np)\n",
      "            340 LOAD_METHOD              2 (dot)\n",
      "            362 LOAD_FAST                0 (u)\n",
      "            364 LOAD_FAST                6 (vw)\n",
      "            366 PRECALL                  2\n",
      "            370 CALL                     2\n",
      "            380 STORE_FAST               8 (uv)\n",
      "\n",
      " 71         382 LOAD_GLOBAL              2 (np)\n",
      "            394 LOAD_METHOD              2 (dot)\n",
      "            416 LOAD_FAST                0 (u)\n",
      "            418 LOAD_FAST                7 (uw)\n",
      "            420 PRECALL                  2\n",
      "            424 CALL                     2\n",
      "            434 STORE_FAST               9 (uu)\n",
      "\n",
      " 72         436 LOAD_GLOBAL              2 (np)\n",
      "            448 LOAD_METHOD              2 (dot)\n",
      "            470 LOAD_FAST                1 (v)\n",
      "            472 LOAD_FAST                6 (vw)\n",
      "            474 PRECALL                  2\n",
      "            478 CALL                     2\n",
      "            488 STORE_FAST              10 (vv)\n",
      "\n",
      " 73         490 LOAD_CONST               2 (1.0)\n",
      "            492 LOAD_FAST                8 (uv)\n",
      "            494 LOAD_GLOBAL              8 (math)\n",
      "            506 LOAD_METHOD              5 (sqrt)\n",
      "            528 LOAD_FAST                9 (uu)\n",
      "            530 LOAD_FAST               10 (vv)\n",
      "            532 BINARY_OP                5 (*)\n",
      "            536 PRECALL                  1\n",
      "            540 CALL                     1\n",
      "            550 BINARY_OP               11 (/)\n",
      "            554 BINARY_OP               10 (-)\n",
      "            558 STORE_FAST              11 (dist)\n",
      "\n",
      " 75         560 LOAD_GLOBAL              2 (np)\n",
      "            572 LOAD_METHOD              6 (clip)\n",
      "            594 LOAD_FAST               11 (dist)\n",
      "            596 LOAD_CONST               3 (0.0)\n",
      "            598 LOAD_CONST               4 (2.0)\n",
      "            600 PRECALL                  3\n",
      "            604 CALL                     3\n",
      "            614 RETURN_VALUE\n"
     ]
    }
   ],
   "source": [
    "import scipy.stats\n",
    "import dis\n",
    "\n",
    "# Disassemble the function\n",
    "dis.dis(correlation)"
   ]
  },
  {
   "cell_type": "code",
   "execution_count": 23,
   "metadata": {},
   "outputs": [
    {
     "name": "stdout",
     "output_type": "stream",
     "text": [
      " 0.5370989799499511 ms\n",
      " 0.686272120475769 ms\n",
      "True\n"
     ]
    }
   ],
   "source": [
    "import time\n",
    "import math\n",
    "\n",
    "import numpy as np\n",
    "from scipy.spatial import distance\n",
    "\n",
    "SIZE = 6400000\n",
    "EXECUTIONS = 10000\n",
    "\n",
    "path = \"\" # From https://github.com/joseprupi/cosine-similarity-comparison/blob/master/tools/vectors.csv\n",
    "file_data = np.genfromtxt(path, delimiter=',')\n",
    "A,B = np.moveaxis(file_data, 1, 0).astype('f')\n",
    "\n",
    "def cosine(u, v, w=None):\n",
    "    \n",
    "    uv = np.dot(u, v)\n",
    "    uu = np.dot(u, u)\n",
    "    vv = np.dot(v, v)\n",
    "    dist = 1.0 - uv / math.sqrt(uu * vv)\n",
    "    # Clip the result to avoid rounding error\n",
    "    return np.clip(dist, 0.0, 2.0)\n",
    "\n",
    "accum = 0\n",
    "\n",
    "for _ in range(EXECUTIONS):\n",
    "    start_time = time.time()\n",
    "    cos_sim = cosine(A,B)\n",
    "    accum += (time.time() - start_time) * 1000\n",
    "\n",
    "print(\" %s ms\" % (accum/EXECUTIONS))\n",
    "cos_sim_manual = cos_sim\n",
    "\n",
    "accum = 0\n",
    "\n",
    "for _ in range(EXECUTIONS):\n",
    "    start_time = time.time()\n",
    "    cos_sim = distance.cosine(A,B)\n",
    "    accum += (time.time() - start_time) * 1000\n",
    "\n",
    "print(\" %s ms\" % (accum/EXECUTIONS))\n",
    "cos_sim_scipy = cos_sim\n",
    "\n",
    "print(np.isclose(cos_sim_scipy, cos_sim_manual))\n",
    "\n"
   ]
  },
  {
   "cell_type": "code",
   "execution_count": 14,
   "metadata": {},
   "outputs": [
    {
     "name": "stdout",
     "output_type": "stream",
     "text": [
      "  C_CONTIGUOUS : True\n",
      "  F_CONTIGUOUS : False\n",
      "  OWNDATA : True\n",
      "  WRITEABLE : True\n",
      "  ALIGNED : True\n",
      "  WRITEBACKIFCOPY : False\n",
      "\n"
     ]
    }
   ],
   "source": [
    "t = np.empty((8, 4), 'uint32')[:, :2]\n",
    "t = np.empty((8, 4), 'uint32')\n",
    "print(t.flags)"
   ]
  },
  {
   "cell_type": "code",
   "execution_count": 10,
   "metadata": {},
   "outputs": [
    {
     "data": {
      "text/plain": [
       "  C_CONTIGUOUS : False\n",
       "  F_CONTIGUOUS : False\n",
       "  OWNDATA : False\n",
       "  WRITEABLE : True\n",
       "  ALIGNED : True\n",
       "  WRITEBACKIFCOPY : False"
      ]
     },
     "execution_count": 10,
     "metadata": {},
     "output_type": "execute_result"
    }
   ],
   "source": [
    "t.flags"
   ]
  },
  {
   "cell_type": "code",
   "execution_count": 29,
   "metadata": {},
   "outputs": [],
   "source": [
    "def generate_random_vector(size):\n",
    "    \"\"\"\n",
    "    Generate 2 random vectors with the provided size\n",
    "    and save them in a text file\n",
    "    \"\"\"\n",
    "    A = np.random.normal(loc=1.5, size=(size,))\n",
    "    B = np.random.normal(loc=-1.5, scale=2.0, size=(size,))\n",
    "    vectors = np.stack([A, B], axis=1)\n",
    "    np.savetxt('vectors.csv', vectors, fmt='%f,%f')"
   ]
  },
  {
   "cell_type": "code",
   "execution_count": 30,
   "metadata": {},
   "outputs": [],
   "source": [
    "generate_random_vector(64000)"
   ]
  },
  {
   "cell_type": "code",
   "execution_count": 32,
   "metadata": {},
   "outputs": [],
   "source": [
    "file_data = np.genfromtxt('../tools/vectors.csv', delimiter=',')\n",
    "A,B = np.moveaxis(file_data, 1, 0).astype('f')"
   ]
  },
  {
   "cell_type": "code",
   "execution_count": 40,
   "metadata": {},
   "outputs": [],
   "source": [
    "A = np.random.normal(loc=1.5, size=(10,2))"
   ]
  },
  {
   "cell_type": "code",
   "execution_count": 41,
   "metadata": {},
   "outputs": [
    {
     "data": {
      "text/plain": [
       "  C_CONTIGUOUS : True\n",
       "  F_CONTIGUOUS : False\n",
       "  OWNDATA : True\n",
       "  WRITEABLE : True\n",
       "  ALIGNED : True\n",
       "  WRITEBACKIFCOPY : False"
      ]
     },
     "execution_count": 41,
     "metadata": {},
     "output_type": "execute_result"
    }
   ],
   "source": [
    "A.flags"
   ]
  },
  {
   "cell_type": "code",
   "execution_count": 42,
   "metadata": {},
   "outputs": [],
   "source": [
    "At = np.moveaxis(A, 1, 0).astype('f')"
   ]
  },
  {
   "cell_type": "code",
   "execution_count": 43,
   "metadata": {},
   "outputs": [
    {
     "data": {
      "text/plain": [
       "  C_CONTIGUOUS : True\n",
       "  F_CONTIGUOUS : False\n",
       "  OWNDATA : True\n",
       "  WRITEABLE : True\n",
       "  ALIGNED : True\n",
       "  WRITEBACKIFCOPY : False"
      ]
     },
     "execution_count": 43,
     "metadata": {},
     "output_type": "execute_result"
    }
   ],
   "source": [
    "A.flags"
   ]
  },
  {
   "cell_type": "code",
   "execution_count": 51,
   "metadata": {},
   "outputs": [
    {
     "name": "stdout",
     "output_type": "stream",
     "text": [
      "  C_CONTIGUOUS : False\n",
      "  F_CONTIGUOUS : False\n",
      "  OWNDATA : False\n",
      "  WRITEABLE : True\n",
      "  ALIGNED : True\n",
      "  WRITEBACKIFCOPY : False\n",
      "\n"
     ]
    }
   ],
   "source": [
    "x = np.zeros((3, 4, 5))\n",
    "T = np.moveaxis(x, 0, -1)\n",
    "print(T.flags)"
   ]
  },
  {
   "cell_type": "code",
   "execution_count": 50,
   "metadata": {},
   "outputs": [
    {
     "data": {
      "text/plain": [
       "  C_CONTIGUOUS : False\n",
       "  F_CONTIGUOUS : False\n",
       "  OWNDATA : False\n",
       "  WRITEABLE : True\n",
       "  ALIGNED : True\n",
       "  WRITEBACKIFCOPY : False"
      ]
     },
     "execution_count": 50,
     "metadata": {},
     "output_type": "execute_result"
    }
   ],
   "source": []
  },
  {
   "cell_type": "code",
   "execution_count": 25,
   "metadata": {},
   "outputs": [
    {
     "data": {
      "text/plain": [
       "64000"
      ]
     },
     "execution_count": 25,
     "metadata": {},
     "output_type": "execute_result"
    }
   ],
   "source": [
    "len(file_data)"
   ]
  }
 ],
 "metadata": {
  "kernelspec": {
   "display_name": "Python 3",
   "language": "python",
   "name": "python3"
  },
  "language_info": {
   "codemirror_mode": {
    "name": "ipython",
    "version": 3
   },
   "file_extension": ".py",
   "mimetype": "text/x-python",
   "name": "python",
   "nbconvert_exporter": "python",
   "pygments_lexer": "ipython3",
   "version": "3.11.2"
  },
  "orig_nbformat": 4
 },
 "nbformat": 4,
 "nbformat_minor": 2
}
