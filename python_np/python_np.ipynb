{
 "cells": [
  {
   "cell_type": "code",
   "execution_count": 5,
   "metadata": {},
   "outputs": [],
   "source": [
    "import numpy as np\n",
    "from scipy.spatial import distance\n",
    "from numpy.linalg import norm"
   ]
  },
  {
   "cell_type": "code",
   "execution_count": 8,
   "metadata": {},
   "outputs": [],
   "source": [
    "file_data = np.genfromtxt('vectors.csv', delimiter=',')\n",
    "A,B = np.moveaxis(file_data, 1, 0)\n",
    "\n",
    "A = A.astype('f')\n",
    "B = B.astype('f')"
   ]
  },
  {
   "cell_type": "code",
   "execution_count": 9,
   "metadata": {},
   "outputs": [
    {
     "name": "stdout",
     "output_type": "stream",
     "text": [
      "-0.499016672372818\n",
      "--- 1.9369125366210938 milliseconds ---\n"
     ]
    }
   ],
   "source": [
    "import time\n",
    "start_time = time.time()\n",
    "sim = distance.cosine(A,B)\n",
    "elapsed = (time.time() - start_time) * 1000\n",
    "print(1 - sim)\n",
    "print(\"--- %s milliseconds ---\" % elapsed)"
   ]
  },
  {
   "cell_type": "code",
   "execution_count": 10,
   "metadata": {},
   "outputs": [
    {
     "name": "stdout",
     "output_type": "stream",
     "text": [
      "-0.4990171\n",
      "--- 0.9262561798095703 milliseconds ---\n"
     ]
    }
   ],
   "source": [
    "start_time = time.time()\n",
    "cos_sim = np.dot(A, B)/(norm(A)*norm(B))\n",
    "elapsed = (time.time() - start_time) * 1000\n",
    "print(cos_sim)\n",
    "print(\"--- %s milliseconds ---\" % elapsed)"
   ]
  }
 ],
 "metadata": {
  "kernelspec": {
   "display_name": "Python 3",
   "language": "python",
   "name": "python3"
  },
  "language_info": {
   "codemirror_mode": {
    "name": "ipython",
    "version": 3
   },
   "file_extension": ".py",
   "mimetype": "text/x-python",
   "name": "python",
   "nbconvert_exporter": "python",
   "pygments_lexer": "ipython3",
   "version": "3.9.2"
  },
  "orig_nbformat": 4
 },
 "nbformat": 4,
 "nbformat_minor": 2
}
