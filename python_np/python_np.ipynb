{
 "cells": [
  {
   "cell_type": "code",
   "execution_count": 2,
   "metadata": {},
   "outputs": [],
   "source": [
    "import time\n",
    "import math\n",
    "\n",
    "import pandas as pd\n",
    "import numpy as np\n",
    "from scipy.spatial import distance\n",
    "from numpy.linalg import norm"
   ]
  },
  {
   "cell_type": "code",
   "execution_count": 10,
   "metadata": {},
   "outputs": [],
   "source": [
    "EXECUTIONS = 100"
   ]
  },
  {
   "cell_type": "code",
   "execution_count": 11,
   "metadata": {},
   "outputs": [],
   "source": [
    "file_data = np.genfromtxt('../tools/vectors.csv', delimiter=',')\n",
    "A,B = np.moveaxis(file_data, 1, 0).astype('f')"
   ]
  },
  {
   "cell_type": "code",
   "execution_count": 12,
   "metadata": {},
   "outputs": [],
   "source": [
    "results_df = pd.DataFrame(columns=['Implementation', 'Time (ms)', 'Result'])"
   ]
  },
  {
   "cell_type": "code",
   "execution_count": 13,
   "metadata": {},
   "outputs": [
    {
     "name": "stdout",
     "output_type": "stream",
     "text": [
      " 299.15218591690063 ms\n"
     ]
    }
   ],
   "source": [
    "# Plain Python implementation\n",
    "\n",
    "def cosine(A, B):\n",
    "    dot = denom_a = denom_b = 0.0\n",
    "    \n",
    "    for i in range(len(A)):\n",
    "        dot += A[i] * B[i]\n",
    "        denom_a += A[i] * A[i]\n",
    "        denom_b += B[i] * B[i]\n",
    "\n",
    "    return 1 - (dot / (math.sqrt(denom_a) * math.sqrt(denom_b)))\n",
    "\n",
    "accum = 0\n",
    "\n",
    "A_list = list(A)\n",
    "B_list = list(B)\n",
    "\n",
    "for _ in range(EXECUTIONS):\n",
    "    start_time = time.time()\n",
    "    cos_sim = cosine(A_list,B_list)\n",
    "    accum += (time.time() - start_time) * 1000\n",
    "\n",
    "print(\" %s ms\" % (accum/EXECUTIONS))\n",
    "\n",
    "\n",
    "results_df.loc[len(results_df)] = ['Plain Python', accum/EXECUTIONS, cos_sim]"
   ]
  },
  {
   "cell_type": "code",
   "execution_count": 14,
   "metadata": {},
   "outputs": [
    {
     "name": "stdout",
     "output_type": "stream",
     "text": [
      " 271.6829204559326 ms\n"
     ]
    }
   ],
   "source": [
    "# Plain Python implementation. More Pythonic\n",
    "\n",
    "def cosine(A, B):\n",
    "    dot = denom_a = denom_b = 0.0\n",
    "\n",
    "    dot = sum([a*b for a,b in zip(A,B)])\n",
    "    denom_a = sum([x*x for x in A])\n",
    "    denom_b = sum([x*x for x in B])\n",
    "\n",
    "    return 1 - (dot / (math.sqrt(denom_a) * math.sqrt(denom_b)))\n",
    "\n",
    "accum = 0\n",
    "\n",
    "A_list = list(A)\n",
    "B_list = list(B)\n",
    "\n",
    "for _ in range(EXECUTIONS):\n",
    "    start_time = time.time()\n",
    "    cos_sim = cosine(A_list,B_list)\n",
    "    accum += (time.time() - start_time) * 1000\n",
    "\n",
    "print(\" %s ms\" % (accum/EXECUTIONS))\n",
    "\n",
    "\n",
    "results_df.loc[len(results_df)] = ['Plain Python More Pythonic', accum/EXECUTIONS, cos_sim]"
   ]
  },
  {
   "cell_type": "code",
   "execution_count": 15,
   "metadata": {},
   "outputs": [],
   "source": [
    "EXECUTIONS = 10000"
   ]
  },
  {
   "cell_type": "code",
   "execution_count": 7,
   "metadata": {},
   "outputs": [
    {
     "name": "stdout",
     "output_type": "stream",
     "text": [
      " 0.5493692636489869 ms\n"
     ]
    }
   ],
   "source": [
    "# Scipy implementation\n",
    "\n",
    "accum = 0\n",
    "\n",
    "for _ in range(EXECUTIONS):\n",
    "    start_time = time.time()\n",
    "    cos_sim = distance.cosine(A,B)\n",
    "    accum += (time.time() - start_time) * 1000\n",
    "\n",
    "print(\" %s ms\" % (accum/EXECUTIONS))\n",
    "\n",
    "results_df.loc[len(results_df)] = ['SciPy', accum/EXECUTIONS, cos_sim]"
   ]
  },
  {
   "cell_type": "code",
   "execution_count": 8,
   "metadata": {},
   "outputs": [
    {
     "name": "stdout",
     "output_type": "stream",
     "text": [
      " 0.6952577352523803 ms\n"
     ]
    }
   ],
   "source": [
    "# NumPy implementation\n",
    "\n",
    "accum = 0\n",
    "\n",
    "for _ in range(EXECUTIONS):\n",
    "    start_time = time.time()\n",
    "    cos_sim = 1 - np.dot(A, B)/(norm(A)*norm(B))\n",
    "    accum +=  (time.time() - start_time) * 1000\n",
    "\n",
    "print(\" %s ms\" % (accum/EXECUTIONS))\n",
    "\n",
    "results_df.loc[len(results_df)] = ['NumPy', accum/EXECUTIONS, cos_sim]"
   ]
  },
  {
   "cell_type": "code",
   "execution_count": 9,
   "metadata": {},
   "outputs": [
    {
     "name": "stdout",
     "output_type": "stream",
     "text": [
      "|    | Implementation   |   Time (ms) |   Result |\n",
      "|---:|:-----------------|------------:|---------:|\n",
      "|  1 | SciPy            |    0.549369 |  1.49902 |\n",
      "|  2 | NumPy            |    0.695258 |  1.49902 |\n",
      "|  0 | Plain Python     |  323.389    |  1.49902 |\n"
     ]
    }
   ],
   "source": [
    "print(results_df.sort_values(results_df.columns[1]).to_markdown())"
   ]
  },
  {
   "cell_type": "code",
   "execution_count": 10,
   "metadata": {},
   "outputs": [
    {
     "name": "stdout",
     "output_type": "stream",
     "text": [
      " 0.6714282274246216 ms\n"
     ]
    }
   ],
   "source": [
    "# NumPy as Scipy implementation\n",
    "\n",
    "def cosine(u, v):\n",
    "    \n",
    "    uv = np.dot(u, v)\n",
    "    uu = np.dot(u, u)\n",
    "    vv = np.dot(v, v)\n",
    "    dist = 1.0 - uv / math.sqrt(uu * vv)\n",
    "    # Clip the result to avoid rounding error\n",
    "    return np.clip(dist, 0.0, 2.0)\n",
    "\n",
    "accum = 0\n",
    "\n",
    "for _ in range(EXECUTIONS):\n",
    "    start_time = time.time()\n",
    "    cos_sim = cosine(A,B)\n",
    "    accum += (time.time() - start_time) * 1000\n",
    "\n",
    "print(\" %s ms\" % (accum/EXECUTIONS))\n",
    "\n",
    "results_df.loc[len(results_df)] = ['NumPy as Scipy', accum/EXECUTIONS, cos_sim]"
   ]
  },
  {
   "cell_type": "code",
   "execution_count": 11,
   "metadata": {},
   "outputs": [
    {
     "name": "stdout",
     "output_type": "stream",
     "text": [
      "|    | Implementation   |   Time (ms) |   Result |\n",
      "|---:|:-----------------|------------:|---------:|\n",
      "|  1 | SciPy            |    0.549369 |  1.49902 |\n",
      "|  3 | NumPy as Scipy   |    0.671428 |  1.49902 |\n",
      "|  2 | NumPy            |    0.695258 |  1.49902 |\n",
      "|  0 | Plain Python     |  323.389    |  1.49902 |\n"
     ]
    }
   ],
   "source": [
    "print(results_df.sort_values(results_df.columns[1]).to_markdown())"
   ]
  },
  {
   "cell_type": "code",
   "execution_count": 36,
   "metadata": {},
   "outputs": [
    {
     "name": "stdout",
     "output_type": "stream",
     "text": [
      " 0.04193553924560547 ms\n",
      " 0.04263992309570312 ms\n"
     ]
    }
   ],
   "source": [
    "# SciPy/NumPy implementation\n",
    "\n",
    "A,B = np.moveaxis(file_data, 1, 0).astype('f')\n",
    "\n",
    "A = np.asarray(A, dtype='float', order='c')\n",
    "B = np.asarray(B, dtype='float', order='c')\n",
    "\n",
    "accum = 0\n",
    "\n",
    "for _ in range(EXECUTIONS):\n",
    "    start_time = time.time()\n",
    "    cos_sim = 1 - np.dot(A, B)/(norm(A)*norm(B))\n",
    "    accum +=  (time.time() - start_time) * 1000\n",
    "\n",
    "print(\" %s ms\" % (accum/EXECUTIONS))\n",
    "\n",
    "def cosine(u, v):\n",
    "    \n",
    "    uv = np.dot(u, v)\n",
    "    uu = np.dot(u, u)\n",
    "    vv = np.dot(v, v)\n",
    "    dist = 1.0 - uv / math.sqrt(uu * vv)\n",
    "    # Clip the result to avoid rounding error\n",
    "    return np.clip(dist, 0.0, 2.0)\n",
    "\n",
    "accum = 0\n",
    "\n",
    "for _ in range(EXECUTIONS):\n",
    "    start_time = time.time()\n",
    "    cos_sim = cosine(A,B)\n",
    "    accum += (time.time() - start_time) * 1000\n",
    "\n",
    "print(\" %s ms\" % (accum/EXECUTIONS))\n",
    "\n",
    "results_df.loc[len(results_df)] = ['NumPy with contiguous mem', accum/EXECUTIONS, cos_sim]"
   ]
  },
  {
   "cell_type": "code",
   "execution_count": 13,
   "metadata": {},
   "outputs": [
    {
     "name": "stdout",
     "output_type": "stream",
     "text": [
      "|    | Implementation            |   Time (ms) |   Result |\n",
      "|---:|:--------------------------|------------:|---------:|\n",
      "|  4 | NumPy with contiguous mem |   0.0437653 |  1.49902 |\n",
      "|  1 | SciPy                     |   0.549369  |  1.49902 |\n",
      "|  3 | NumPy as Scipy            |   0.671428  |  1.49902 |\n",
      "|  2 | NumPy                     |   0.695258  |  1.49902 |\n",
      "|  0 | Plain Python              | 323.389     |  1.49902 |\n"
     ]
    }
   ],
   "source": [
    "print(results_df.sort_values(results_df.columns[1]).to_markdown())"
   ]
  }
 ],
 "metadata": {
  "kernelspec": {
   "display_name": "Python 3",
   "language": "python",
   "name": "python3"
  },
  "language_info": {
   "codemirror_mode": {
    "name": "ipython",
    "version": 3
   },
   "file_extension": ".py",
   "mimetype": "text/x-python",
   "name": "python",
   "nbconvert_exporter": "python",
   "pygments_lexer": "ipython3",
   "version": "3.11.2"
  },
  "orig_nbformat": 4
 },
 "nbformat": 4,
 "nbformat_minor": 2
}
