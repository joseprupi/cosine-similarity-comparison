{
 "cells": [
  {
   "cell_type": "code",
   "execution_count": 2,
   "metadata": {},
   "outputs": [],
   "source": [
    "import time\n",
    "import math\n",
    "\n",
    "import pandas as pd\n",
    "import numpy as np\n",
    "from scipy.spatial import distance\n",
    "from numpy.linalg import norm"
   ]
  },
  {
   "cell_type": "code",
   "execution_count": 10,
   "metadata": {},
   "outputs": [],
   "source": [
    "EXECUTIONS = 100"
   ]
  },
  {
   "cell_type": "code",
   "execution_count": 11,
   "metadata": {},
   "outputs": [],
   "source": [
    "file_data = np.genfromtxt('../tools/vectors.csv', delimiter=',')\n",
    "A,B = np.moveaxis(file_data, 1, 0).astype('f')"
   ]
  },
  {
   "cell_type": "code",
   "execution_count": 12,
   "metadata": {},
   "outputs": [],
   "source": [
    "results_df = pd.DataFrame(columns=['Implementation', 'Time (ms)', 'Result'])"
   ]
  },
  {
   "cell_type": "code",
   "execution_count": 13,
   "metadata": {},
   "outputs": [
    {
     "name": "stdout",
     "output_type": "stream",
     "text": [
      " 299.15218591690063 ms\n"
     ]
    }
   ],
   "source": [
    "# Plain Python implementation\n",
    "\n",
    "def cosine(A, B):\n",
    "    dot = denom_a = denom_b = 0.0\n",
    "    \n",
    "    for i in range(len(A)):\n",
    "        dot += A[i] * B[i]\n",
    "        denom_a += A[i] * A[i]\n",
    "        denom_b += B[i] * B[i]\n",
    "\n",
    "    return 1 - (dot / (math.sqrt(denom_a) * math.sqrt(denom_b)))\n",
    "\n",
    "accum = 0\n",
    "\n",
    "A_list = list(A)\n",
    "B_list = list(B)\n",
    "\n",
    "for _ in range(EXECUTIONS):\n",
    "    start_time = time.time()\n",
    "    cos_sim = cosine(A_list,B_list)\n",
    "    accum += (time.time() - start_time) * 1000\n",
    "\n",
    "print(\" %s ms\" % (accum/EXECUTIONS))\n",
    "\n",
    "\n",
    "results_df.loc[len(results_df)] = ['Plain Python', accum/EXECUTIONS, cos_sim]"
   ]
  },
  {
   "cell_type": "code",
   "execution_count": 14,
   "metadata": {},
   "outputs": [
    {
     "name": "stdout",
     "output_type": "stream",
     "text": [
      " 271.6829204559326 ms\n"
     ]
    }
   ],
   "source": [
    "# Plain Python implementation. More Pythonic\n",
    "\n",
    "def cosine(A, B):\n",
    "    dot = denom_a = denom_b = 0.0\n",
    "\n",
    "    dot = sum([a*b for a,b in zip(A,B)])\n",
    "    denom_a = sum([x*x for x in A])\n",
    "    denom_b = sum([x*x for x in B])\n",
    "\n",
    "    return 1 - (dot / (math.sqrt(denom_a) * math.sqrt(denom_b)))\n",
    "\n",
    "accum = 0\n",
    "\n",
    "A_list = list(A)\n",
    "B_list = list(B)\n",
    "\n",
    "for _ in range(EXECUTIONS):\n",
    "    start_time = time.time()\n",
    "    cos_sim = cosine(A_list,B_list)\n",
    "    accum += (time.time() - start_time) * 1000\n",
    "\n",
    "print(\" %s ms\" % (accum/EXECUTIONS))\n",
    "\n",
    "\n",
    "results_df.loc[len(results_df)] = ['Plain Python More Pythonic', accum/EXECUTIONS, cos_sim]"
   ]
  },
  {
   "cell_type": "code",
   "execution_count": 15,
   "metadata": {},
   "outputs": [],
   "source": [
    "EXECUTIONS = 10000"
   ]
  },
  {
   "cell_type": "code",
   "execution_count": 7,
   "metadata": {},
   "outputs": [
    {
     "name": "stdout",
     "output_type": "stream",
     "text": [
      " 0.5493692636489869 ms\n"
     ]
    }
   ],
   "source": [
    "# Scipy implementation\n",
    "\n",
    "accum = 0\n",
    "\n",
    "for _ in range(EXECUTIONS):\n",
    "    start_time = time.time()\n",
    "    cos_sim = distance.cosine(A,B)\n",
    "    accum += (time.time() - start_time) * 1000\n",
    "\n",
    "print(\" %s ms\" % (accum/EXECUTIONS))\n",
    "\n",
    "results_df.loc[len(results_df)] = ['SciPy', accum/EXECUTIONS, cos_sim]"
   ]
  },
  {
   "cell_type": "code",
   "execution_count": 8,
   "metadata": {},
   "outputs": [
    {
     "name": "stdout",
     "output_type": "stream",
     "text": [
      " 0.6952577352523803 ms\n"
     ]
    }
   ],
   "source": [
    "# NumPy implementation\n",
    "\n",
    "accum = 0\n",
    "\n",
    "for _ in range(EXECUTIONS):\n",
    "    start_time = time.time()\n",
    "    cos_sim = 1 - np.dot(A, B)/(norm(A)*norm(B))\n",
    "    accum +=  (time.time() - start_time) * 1000\n",
    "\n",
    "print(\" %s ms\" % (accum/EXECUTIONS))\n",
    "\n",
    "results_df.loc[len(results_df)] = ['NumPy', accum/EXECUTIONS, cos_sim]"
   ]
  },
  {
   "cell_type": "code",
   "execution_count": 9,
   "metadata": {},
   "outputs": [
    {
     "name": "stdout",
     "output_type": "stream",
     "text": [
      "|    | Implementation   |   Time (ms) |   Result |\n",
      "|---:|:-----------------|------------:|---------:|\n",
      "|  1 | SciPy            |    0.549369 |  1.49902 |\n",
      "|  2 | NumPy            |    0.695258 |  1.49902 |\n",
      "|  0 | Plain Python     |  323.389    |  1.49902 |\n"
     ]
    }
   ],
   "source": [
    "print(results_df.sort_values(results_df.columns[1]).to_markdown())"
   ]
  },
  {
   "cell_type": "code",
   "execution_count": 10,
   "metadata": {},
   "outputs": [
    {
     "name": "stdout",
     "output_type": "stream",
     "text": [
      " 0.6714282274246216 ms\n"
     ]
    }
   ],
   "source": [
    "# NumPy as Scipy implementation\n",
    "\n",
    "def cosine(u, v):\n",
    "    \n",
    "    uv = np.dot(u, v)\n",
    "    uu = np.dot(u, u)\n",
    "    vv = np.dot(v, v)\n",
    "    dist = 1.0 - uv / math.sqrt(uu * vv)\n",
    "    # Clip the result to avoid rounding error\n",
    "    return np.clip(dist, 0.0, 2.0)\n",
    "\n",
    "accum = 0\n",
    "\n",
    "for _ in range(EXECUTIONS):\n",
    "    start_time = time.time()\n",
    "    cos_sim = cosine(A,B)\n",
    "    accum += (time.time() - start_time) * 1000\n",
    "\n",
    "print(\" %s ms\" % (accum/EXECUTIONS))\n",
    "\n",
    "results_df.loc[len(results_df)] = ['NumPy as Scipy', accum/EXECUTIONS, cos_sim]"
   ]
  },
  {
   "cell_type": "code",
   "execution_count": 11,
   "metadata": {},
   "outputs": [
    {
     "name": "stdout",
     "output_type": "stream",
     "text": [
      "|    | Implementation   |   Time (ms) |   Result |\n",
      "|---:|:-----------------|------------:|---------:|\n",
      "|  1 | SciPy            |    0.549369 |  1.49902 |\n",
      "|  3 | NumPy as Scipy   |    0.671428 |  1.49902 |\n",
      "|  2 | NumPy            |    0.695258 |  1.49902 |\n",
      "|  0 | Plain Python     |  323.389    |  1.49902 |\n"
     ]
    }
   ],
   "source": [
    "print(results_df.sort_values(results_df.columns[1]).to_markdown())"
   ]
  },
  {
   "cell_type": "code",
   "execution_count": 36,
   "metadata": {},
   "outputs": [
    {
     "name": "stdout",
     "output_type": "stream",
     "text": [
      " 0.04193553924560547 ms\n",
      " 0.04263992309570312 ms\n"
     ]
    }
   ],
   "source": [
    "# SciPy/NumPy implementation\n",
    "\n",
    "A,B = np.moveaxis(file_data, 1, 0).astype('f')\n",
    "\n",
    "A = np.asarray(A, dtype='float', order='c')\n",
    "B = np.asarray(B, dtype='float', order='c')\n",
    "\n",
    "accum = 0\n",
    "\n",
    "for _ in range(EXECUTIONS):\n",
    "    start_time = time.time()\n",
    "    cos_sim = 1 - np.dot(A, B)/(norm(A)*norm(B))\n",
    "    accum +=  (time.time() - start_time) * 1000\n",
    "\n",
    "print(\" %s ms\" % (accum/EXECUTIONS))\n",
    "\n",
    "def cosine(u, v):\n",
    "    \n",
    "    uv = np.dot(u, v)\n",
    "    uu = np.dot(u, u)\n",
    "    vv = np.dot(v, v)\n",
    "    dist = 1.0 - uv / math.sqrt(uu * vv)\n",
    "    # Clip the result to avoid rounding error\n",
    "    return np.clip(dist, 0.0, 2.0)\n",
    "\n",
    "accum = 0\n",
    "\n",
    "for _ in range(EXECUTIONS):\n",
    "    start_time = time.time()\n",
    "    cos_sim = cosine(A,B)\n",
    "    accum += (time.time() - start_time) * 1000\n",
    "\n",
    "print(\" %s ms\" % (accum/EXECUTIONS))\n",
    "\n",
    "results_df.loc[len(results_df)] = ['NumPy with contiguous mem', accum/EXECUTIONS, cos_sim]"
   ]
  },
  {
   "cell_type": "code",
   "execution_count": 13,
   "metadata": {},
   "outputs": [
    {
     "name": "stdout",
     "output_type": "stream",
     "text": [
      "|    | Implementation            |   Time (ms) |   Result |\n",
      "|---:|:--------------------------|------------:|---------:|\n",
      "|  4 | NumPy with contiguous mem |   0.0437653 |  1.49902 |\n",
      "|  1 | SciPy                     |   0.549369  |  1.49902 |\n",
      "|  3 | NumPy as Scipy            |   0.671428  |  1.49902 |\n",
      "|  2 | NumPy                     |   0.695258  |  1.49902 |\n",
      "|  0 | Plain Python              | 323.389     |  1.49902 |\n"
     ]
    }
   ],
   "source": [
    "print(results_df.sort_values(results_df.columns[1]).to_markdown())"
   ]
  },
  {
   "cell_type": "code",
   "execution_count": 34,
   "metadata": {},
   "outputs": [
    {
     "name": "stdout",
     "output_type": "stream",
     "text": [
      " 0.040762686729431154 ms\n"
     ]
    }
   ],
   "source": [
    "from scipy.linalg.blas import ddot\n",
    "\n",
    "# NumPy as Scipy implementation\n",
    "\n",
    "def cosine(u, v):\n",
    "    \n",
    "    uv = ddot(u,v)\n",
    "    uu = ddot(u,u)\n",
    "    vv = ddot(v,v)\n",
    "    dist = 1.0 - uv / math.sqrt(uu * vv)\n",
    "    # Clip the result to avoid rounding error\n",
    "    return np.clip(dist, 0.0, 2.0)\n",
    "\n",
    "accum = 0\n",
    "\n",
    "for _ in range(EXECUTIONS):\n",
    "    start_time = time.time()\n",
    "    cos_sim = cosine(A,B)\n",
    "    accum += (time.time() - start_time) * 1000\n",
    "\n",
    "print(\" %s ms\" % (accum/EXECUTIONS))\n",
    "\n",
    "results_df.loc[len(results_df)] = ['NumPy as Scipy', accum/EXECUTIONS, cos_sim]"
   ]
  },
  {
   "cell_type": "code",
   "execution_count": 14,
   "metadata": {},
   "outputs": [
    {
     "name": "stdout",
     "output_type": "stream",
     "text": [
      "Build Dependencies:\n",
      "  blas:\n",
      "    detection method: pkgconfig\n",
      "    found: true\n",
      "    include directory: /usr/local/include\n",
      "    lib directory: /usr/local/lib\n",
      "    name: openblas64\n",
      "    openblas configuration: USE_64BITINT=1 DYNAMIC_ARCH=1 DYNAMIC_OLDER= NO_CBLAS=\n",
      "      NO_LAPACK= NO_LAPACKE= NO_AFFINITY=1 USE_OPENMP= HASWELL MAX_THREADS=2\n",
      "    pc file directory: /usr/local/lib/pkgconfig\n",
      "    version: 0.3.23.dev\n",
      "  lapack:\n",
      "    detection method: internal\n",
      "    found: true\n",
      "    include directory: unknown\n",
      "    lib directory: unknown\n",
      "    name: dep140213194937296\n",
      "    openblas configuration: unknown\n",
      "    pc file directory: unknown\n",
      "    version: 1.26.4\n",
      "Compilers:\n",
      "  c:\n",
      "    args: -fno-strict-aliasing\n",
      "    commands: cc\n",
      "    linker: ld.bfd\n",
      "    linker args: -Wl,--strip-debug, -fno-strict-aliasing\n",
      "    name: gcc\n",
      "    version: 10.2.1\n",
      "  c++:\n",
      "    commands: c++\n",
      "    linker: ld.bfd\n",
      "    linker args: -Wl,--strip-debug\n",
      "    name: gcc\n",
      "    version: 10.2.1\n",
      "  cython:\n",
      "    commands: cython\n",
      "    linker: cython\n",
      "    name: cython\n",
      "    version: 3.0.8\n",
      "Machine Information:\n",
      "  build:\n",
      "    cpu: x86_64\n",
      "    endian: little\n",
      "    family: x86_64\n",
      "    system: linux\n",
      "  host:\n",
      "    cpu: x86_64\n",
      "    endian: little\n",
      "    family: x86_64\n",
      "    system: linux\n",
      "Python Information:\n",
      "  path: /opt/python/cp311-cp311/bin/python\n",
      "  version: '3.11'\n",
      "SIMD Extensions:\n",
      "  baseline:\n",
      "  - SSE\n",
      "  - SSE2\n",
      "  - SSE3\n",
      "  found:\n",
      "  - SSSE3\n",
      "  - SSE41\n",
      "  - POPCNT\n",
      "  - SSE42\n",
      "  - AVX\n",
      "  - F16C\n",
      "  - FMA3\n",
      "  - AVX2\n",
      "  not found:\n",
      "  - AVX512F\n",
      "  - AVX512CD\n",
      "  - AVX512_KNL\n",
      "  - AVX512_KNM\n",
      "  - AVX512_SKX\n",
      "  - AVX512_CLX\n",
      "  - AVX512_CNL\n",
      "  - AVX512_ICL\n",
      "\n"
     ]
    }
   ],
   "source": [
    "np.show_config()"
   ]
  },
  {
   "cell_type": "code",
   "execution_count": 15,
   "metadata": {},
   "outputs": [
    {
     "name": "stdout",
     "output_type": "stream",
     "text": [
      "Execution took 5.066 seconds\n"
     ]
    }
   ],
   "source": [
    "import numpy as np\n",
    "from scipy.linalg.blas import ddot\n",
    "from timeit import default_timer as timer\n",
    "v = np.ones(100000)\n",
    "start = timer()\n",
    "for k in range(1000000):\n",
    "    s = ddot(v,v)\n",
    "exec_time=(timer() - start)\n",
    "print\n",
    "print(\"Execution took\", str(round(exec_time, 3)), \"seconds\")"
   ]
  }
 ],
 "metadata": {
  "kernelspec": {
   "display_name": "Python 3",
   "language": "python",
   "name": "python3"
  },
  "language_info": {
   "codemirror_mode": {
    "name": "ipython",
    "version": 3
   },
   "file_extension": ".py",
   "mimetype": "text/x-python",
   "name": "python",
   "nbconvert_exporter": "python",
   "pygments_lexer": "ipython3",
   "version": "3.11.2"
  },
  "orig_nbformat": 4
 },
 "nbformat": 4,
 "nbformat_minor": 2
}
